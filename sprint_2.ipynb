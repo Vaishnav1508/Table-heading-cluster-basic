{
 "cells": [
  {
   "cell_type": "code",
   "execution_count": 4,
   "metadata": {},
   "outputs": [
    {
     "name": "stdout",
     "output_type": "stream",
     "text": [
      "Patients\n",
      "with\n",
      "Patients\n",
      "with\n",
      "Spontaneous\n",
      "Secondary\n",
      "—Control\n",
      "Thrombosis\n",
      "Thrombosis\n",
      "Subjects\n",
      "Characteristic\n",
      "(N=153)\n",
      "(N=146)\n",
      "—\n",
      "(N=150)\n",
      "[(216, 12, 50, 11), (270, 11, 26, 12), (328, 12, 49, 11), (380, 11, 27, 12), (215, 30, 82, 14), (335, 28, 66, 16), (440, 28, 46, 12), (218, 45, 75, 12), (330, 45, 75, 12), (437, 45, 52, 16), (1, 55, 95, 29), (229, 55, 54, 29), (341, 64, 54, 14), (404, 55, 25, 29), (437, 63, 53, 15)]\n",
      "[266, 296, 377, 407, 297, 401, 486, 293, 405, 489, 96, 283, 395, 429, 490]\n",
      "[23, 23, 23, 23, 44, 44, 40, 57, 57, 61, 84, 84, 78, 84, 78]\n"
     ]
    }
   ],
   "source": [
    "import pytesseract\n",
    "from pytesseract import Output\n",
    "import cv2\n",
    "img = cv2.imread('a1.jpg')\n",
    "\n",
    "d = pytesseract.image_to_data(img, output_type=Output.DICT)\n",
    "n_boxes = len(d['level'])\n",
    "bbox_list =[]\n",
    "bboxtxt_list=[]\n",
    "x_max=[]\n",
    "y_max=[]\n",
    "for i in range(n_boxes):\n",
    "    if(d['text'][i] != \"\"):\n",
    "        (x, y, w, h) = (d['left'][i], d['top'][i], d['width'][i], d['height'][i])\n",
    "        x_max.append(d['left'][i]+d['width'][i])\n",
    "        y_max.append(d['top'][i]+d['height'][i])\n",
    "        cv2.rectangle(img, (x, y), (x + w, y + h), (0, 255, 0), 2)\n",
    "        bbox = (x, y, w, h)\n",
    "        bbox_list.append(bbox)\n",
    "        bboxtxt_list.append(d['text'][i])\n",
    "        print(d['text'][i])\n",
    "print(bbox_list)\n",
    "print(x_max)\n",
    "print(y_max)\n",
    "cv2.imshow('img', img)\n",
    "cv2.waitKey(0)\n",
    "cv2.destroyAllWindows()\n"
   ]
  },
  {
   "cell_type": "code",
   "execution_count": 5,
   "metadata": {},
   "outputs": [
    {
     "name": "stdout",
     "output_type": "stream",
     "text": [
      "[266, 296, 377, 407, 297, 401, 486, 293, 405, 489, 96, 283, 395, 429, 490]\n",
      "[216, 270, 328, 380, 215, 335, 440, 218, 330, 437, 1, 229, 341, 404, 437]\n",
      "[0, 4, 32, 3, -192, 38, 39, -268, 37, 32, -488, 133, 58, 9, 8]\n",
      "['Patients', 'with', 'Patients', 'with', 'Spontaneous', 'Secondary', '—Control', 'Thrombosis', 'Thrombosis', 'Subjects', 'Characteristic', '(N=153)', '(N=146)', '—', '(N=150)']\n"
     ]
    }
   ],
   "source": [
    "left=[]\n",
    "top=[]\n",
    "width=[]\n",
    "height=[]\n",
    "total_ln=[]\n",
    "jkl=[]\n",
    "lpk=[]\n",
    "for i in range(len(bbox_list)):\n",
    "        left.append(bbox_list[i][0])\n",
    "        top.append(bbox_list[i][1])\n",
    "        width.append(bbox_list[i][2])\n",
    "        height.append(bbox_list[i][3])\n",
    "for i in range(len(left)-1):\n",
    "    jkl.append(left[i+1]-x_max[i])\n",
    "    #lpk.append()\n",
    "jkl.insert(0,0)\n",
    "print(x_max)\n",
    "print(left)\n",
    "print(jkl)\n",
    "print(bboxtxt_list)\n",
    "res = {i:[jkl[i],bboxtxt_list[i]] for i in range(len(left))}"
   ]
  },
  {
   "cell_type": "code",
   "execution_count": 6,
   "metadata": {},
   "outputs": [],
   "source": [
    "o=[]\n",
    "pk ={}\n",
    "p=0\n",
    "for i in range(len(bboxtxt_list)-1):\n",
    "        o.append(bboxtxt_list[i])\n",
    "        pk[p]= o\n",
    "        if(y_max[i+1]-y_max[i]>10):\n",
    "            p+=1\n",
    "            o=[]\n",
    "pk[p].append(bboxtxt_list[len(bboxtxt_list)-1])"
   ]
  },
  {
   "cell_type": "code",
   "execution_count": 4,
   "metadata": {},
   "outputs": [
    {
     "ename": "SyntaxError",
     "evalue": "invalid syntax (<ipython-input-4-d7de3ccbd836>, line 1)",
     "output_type": "error",
     "traceback": [
      "\u001b[1;36m  File \u001b[1;32m\"<ipython-input-4-d7de3ccbd836>\"\u001b[1;36m, line \u001b[1;32m1\u001b[0m\n\u001b[1;33m    for i in the range(len())\u001b[0m\n\u001b[1;37m                 ^\u001b[0m\n\u001b[1;31mSyntaxError\u001b[0m\u001b[1;31m:\u001b[0m invalid syntax\n"
     ]
    }
   ],
   "source": [
    "for i in the range(len())"
   ]
  },
  {
   "cell_type": "code",
   "execution_count": 7,
   "metadata": {},
   "outputs": [
    {
     "data": {
      "text/plain": [
       "{0: ['Patients', 'with', 'Patients', 'with', 'Spontaneous'],\n",
       " 1: ['Secondary', '—Control', 'Thrombosis'],\n",
       " 2: ['Thrombosis', 'Subjects', 'Characteristic'],\n",
       " 3: ['(N=153)', '(N=146)', '—']}"
      ]
     },
     "execution_count": 7,
     "metadata": {},
     "output_type": "execute_result"
    }
   ],
   "source": [
    "o=[]\n",
    "pk1 ={}\n",
    "p=0\n",
    "for i in range(len(bboxtxt_list)-1):\n",
    "        o.append(bboxtxt_list[i])\n",
    "        pk1[p]= o\n",
    "        if(jkl[i]<0):\n",
    "            jkl[i] =jkl[i] \n",
    "            p+=1\n",
    "            o=[]\n",
    "#pk[p].append(bboxtxt_list[len(bboxtxt_list)-1])\n",
    "\n",
    "pk1\n",
    "        \n",
    "    "
   ]
  },
  {
   "cell_type": "code",
   "execution_count": 8,
   "metadata": {
    "jupyter": {
     "source_hidden": true
    }
   },
   "outputs": [
    {
     "data": {
      "text/plain": [
       "['',\n",
       " 'Patients',\n",
       " '0000',\n",
       " 'with',\n",
       " '00000000000000000000000000000000',\n",
       " 'Patients',\n",
       " '000',\n",
       " 'with',\n",
       " 'Spontaneous',\n",
       " '00000000000000000000000000000000000000',\n",
       " 'Secondary',\n",
       " '000000000000000000000000000000000000000',\n",
       " '—Control',\n",
       " 'Thrombosis',\n",
       " '0000000000000000000000000000000000000',\n",
       " 'Thrombosis',\n",
       " '00000000000000000000000000000000',\n",
       " 'Subjects',\n",
       " 'Characteristic',\n",
       " '0000000000000000000000000000000000000000000000000000000000000000000000000000000000000000000000000000000000000000000000000000000000000',\n",
       " '(N=153)',\n",
       " '0000000000000000000000000000000000000000000000000000000000',\n",
       " '(N=146)',\n",
       " '000000000',\n",
       " '—',\n",
       " '00000000',\n",
       " '(N=150)']"
      ]
     },
     "execution_count": 8,
     "metadata": {},
     "output_type": "execute_result"
    }
   ],
   "source": [
    "n=bboxtxt_list\n",
    "ety=[]\n",
    "for i in range(len(jkl)):\n",
    "    \n",
    "    if(jkl[i]>=0):\n",
    "            llll='0'*jkl[i]\n",
    "            ety.append(llll)\n",
    "            llll='0'\n",
    "    ety.append(n[i])\n",
    "\n",
    "ety\n",
    "    "
   ]
  },
  {
   "cell_type": "code",
   "execution_count": 206,
   "metadata": {
    "collapsed": true,
    "jupyter": {
     "outputs_hidden": true,
     "source_hidden": true
    }
   },
   "outputs": [
    {
     "data": {
      "text/plain": [
       "{0: ['slices', 'abs.', 'error', '(%)', 'abs.', 'error'],\n",
       " 1: ['slices', 'abs.', 'error', '(%)', 'abs.', 'error'],\n",
       " 2: ['slices', 'abs.', 'error', '(%)', 'abs.', 'error'],\n",
       " 3: ['avg.', 'max.', 'avg.'],\n",
       " 4: ['avg.', 'max.', 'avg.']}"
      ]
     },
     "execution_count": 206,
     "metadata": {},
     "output_type": "execute_result"
    }
   ],
   "source": [
    "o=[]\n",
    "pk1 ={}\n",
    "p=0\n",
    "for i in range(len(bboxtxt_list)-1):\n",
    "        \n",
    "        if(jkl[i]>=0 and jkl[i]<=30):\n",
    "            o.append(bboxtxt_list[i])   \n",
    "            pk1[p]= o\n",
    "        elif(jkl[i]<0):\n",
    "            o=[]\n",
    "            o.append(bboxtxt_list[i])\n",
    "        elif(jkl[i]>30):\n",
    "            p+=1\n",
    "            o.append(bboxtxt_list[i])\n",
    "            pk1[p]=o\n",
    "        \n",
    "            \n",
    "\n",
    "            \n",
    "#pk[p].append(bboxtxt_list[len(bboxtxt_list)-1])\n",
    "\n",
    "pk1\n",
    "        \n",
    "    "
   ]
  },
  {
   "cell_type": "code",
   "execution_count": 9,
   "metadata": {},
   "outputs": [],
   "source": [
    "lss=[]\n",
    "res1 = {i:[left[i],x_max[i], abs(left[i+1]-x_max[i]),bboxtxt_list[i]] for i in range(len(left)-1)}\n",
    "od = {k: v for k, v in sorted(res1.items(), key=lambda item: item[1][1])}\n",
    "for j in od.values():\n",
    "    lss.append(j)\n",
    "    \n",
    "res2 = {i:lss[i] for i in range(len(lss))}"
   ]
  },
  {
   "cell_type": "code",
   "execution_count": 10,
   "metadata": {},
   "outputs": [
    {
     "data": {
      "text/plain": [
       "{0: [1, 96, 133, 'Characteristic'],\n",
       " 1: [216, 266, 4, 'Patients'],\n",
       " 2: [229, 283, 58, '(N=153)'],\n",
       " 3: [218, 293, 37, 'Thrombosis'],\n",
       " 4: [270, 296, 32, 'with'],\n",
       " 5: [215, 297, 38, 'Spontaneous'],\n",
       " 6: [328, 377, 3, 'Patients'],\n",
       " 7: [341, 395, 9, '(N=146)'],\n",
       " 8: [335, 401, 39, 'Secondary'],\n",
       " 9: [330, 405, 32, 'Thrombosis'],\n",
       " 10: [380, 407, 192, 'with'],\n",
       " 11: [404, 429, 8, '—'],\n",
       " 12: [440, 486, 268, '—Control'],\n",
       " 13: [437, 489, 488, 'Subjects']}"
      ]
     },
     "execution_count": 10,
     "metadata": {},
     "output_type": "execute_result"
    }
   ],
   "source": [
    "res2"
   ]
  },
  {
   "cell_type": "code",
   "execution_count": null,
   "metadata": {},
   "outputs": [],
   "source": []
  },
  {
   "cell_type": "code",
   "execution_count": 13,
   "metadata": {},
   "outputs": [
    {
     "data": {
      "text/plain": [
       "{0: ['Characteristic'],\n",
       " 1: ['Patients', '(N=153)', 'Thrombosis', 'with', 'Spontaneous'],\n",
       " 2: ['Patients', '(N=146)', 'Secondary', 'Thrombosis', 'with'],\n",
       " 3: ['—', '—Control', 'Subjects']}"
      ]
     },
     "execution_count": 13,
     "metadata": {},
     "output_type": "execute_result"
    }
   ],
   "source": [
    "jsh = res2[0][2]\n",
    "o=0\n",
    "m=[]\n",
    "klm ={}\n",
    "for i,j in res2.items():\n",
    "    \n",
    "    if(res2[i][2]<=8):\n",
    "        o+=1\n",
    "        m=[]\n",
    "    m.append(j[3])\n",
    "    klm[o]=m   \n",
    "klm\n"
   ]
  },
  {
   "cell_type": "code",
   "execution_count": null,
   "metadata": {},
   "outputs": [],
   "source": []
  }
 ],
 "metadata": {
  "kernelspec": {
   "display_name": "Python 3",
   "language": "python",
   "name": "python3"
  },
  "language_info": {
   "codemirror_mode": {
    "name": "ipython",
    "version": 3
   },
   "file_extension": ".py",
   "mimetype": "text/x-python",
   "name": "python",
   "nbconvert_exporter": "python",
   "pygments_lexer": "ipython3",
   "version": "3.8.3"
  }
 },
 "nbformat": 4,
 "nbformat_minor": 4
}
