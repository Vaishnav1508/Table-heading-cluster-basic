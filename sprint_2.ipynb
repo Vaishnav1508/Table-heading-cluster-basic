{
 "cells": [
  {
   "cell_type": "code",
   "execution_count": 8,
   "metadata": {},
   "outputs": [
    {
     "name": "stdout",
     "output_type": "stream",
     "text": [
      "Size\n",
      "No.\n",
      "of\n",
      "Timestamp\n",
      "Time\n",
      "stamp\n",
      "ID\n",
      "Database\n",
      "name\n",
      "(MB)\n",
      "records\n",
      "1st\n",
      "record\n",
      "last\n",
      "record\n",
      "[(275, 3, 39, 15), (353, 4, 35, 15), (401, 4, 20, 15), (449, 2, 124, 19), (600, 2, 52, 15), (661, 4, 62, 17), (30, 16, 25, 15), (82, 16, 94, 15), (186, 21, 53, 10), (267, 24, 54, 21), (349, 25, 74, 14), (460, 28, 28, 13), (498, 27, 65, 14), (607, 27, 34, 14), (651, 27, 65, 14)]\n",
      "[314, 388, 421, 573, 652, 723, 55, 176, 239, 321, 423, 488, 563, 641, 716]\n",
      "[18, 19, 19, 21, 17, 21, 31, 31, 31, 45, 39, 41, 41, 41, 41]\n"
     ]
    }
   ],
   "source": [
    "import pytesseract\n",
    "from pytesseract import Output\n",
    "import cv2\n",
    "img = cv2.imread('b1.png')\n",
    "\n",
    "d = pytesseract.image_to_data(img, output_type=Output.DICT)\n",
    "n_boxes = len(d['level'])\n",
    "bbox_list =[]\n",
    "bboxtxt_list=[]\n",
    "x_max=[]\n",
    "y_max=[]\n",
    "for i in range(n_boxes):\n",
    "    if(d['text'][i] != \"\"):\n",
    "        (x, y, w, h) = (d['left'][i], d['top'][i], d['width'][i], d['height'][i])\n",
    "        x_max.append(d['left'][i]+d['width'][i])\n",
    "        y_max.append(d['top'][i]+d['height'][i])\n",
    "        cv2.rectangle(img, (x, y), (x + w, y + h), (0, 255, 0), 2)\n",
    "        bbox = (x, y, w, h)\n",
    "        bbox_list.append(bbox)\n",
    "        bboxtxt_list.append(d['text'][i])\n",
    "        print(d['text'][i])\n",
    "print(bbox_list)\n",
    "print(x_max)\n",
    "print(y_max)\n",
    "cv2.imshow('img', img)\n",
    "cv2.waitKey(0)\n",
    "cv2.destroyAllWindows()\n"
   ]
  },
  {
   "cell_type": "code",
   "execution_count": 2,
   "metadata": {},
   "outputs": [
    {
     "name": "stdout",
     "output_type": "stream",
     "text": [
      "[314, 388, 421, 573, 652, 723, 55, 176, 239, 321, 423, 488, 563, 641, 716]\n",
      "[275, 353, 401, 449, 600, 661, 30, 82, 186, 267, 349, 460, 498, 607, 651]\n",
      "[0, 39, 13, 28, 27, 9, -693, 27, 10, 28, 28, 37, 10, 44, 10]\n",
      "['Size', 'No.', 'of', 'Timestamp', 'Time', 'stamp', 'ID', 'Database', 'name', '(MB)', 'records', '1st', 'record', 'last', 'record']\n"
     ]
    }
   ],
   "source": [
    "left=[]\n",
    "top=[]\n",
    "width=[]\n",
    "height=[]\n",
    "total_ln=[]\n",
    "jkl=[]\n",
    "lpk=[]\n",
    "for i in range(len(bbox_list)):\n",
    "        left.append(bbox_list[i][0])\n",
    "        top.append(bbox_list[i][1])\n",
    "        width.append(bbox_list[i][2])\n",
    "        height.append(bbox_list[i][3])\n",
    "for i in range(len(left)-1):\n",
    "    jkl.append(left[i+1]-x_max[i])\n",
    "    #lpk.append()\n",
    "jkl.insert(0,0)\n",
    "print(x_max)\n",
    "print(left)\n",
    "print(jkl)\n",
    "print(bboxtxt_list)\n",
    "res = {i:[jkl[i],bboxtxt_list[i]] for i in range(len(left))}"
   ]
  },
  {
   "cell_type": "code",
   "execution_count": 3,
   "metadata": {},
   "outputs": [],
   "source": [
    "o=[]\n",
    "pk ={}\n",
    "p=0\n",
    "for i in range(len(bboxtxt_list)-1):\n",
    "        o.append(bboxtxt_list[i])\n",
    "        pk[p]= o\n",
    "        if(y_max[i+1]-y_max[i]>10):\n",
    "            p+=1\n",
    "            o=[]\n",
    "pk[p].append(bboxtxt_list[len(bboxtxt_list)-1])"
   ]
  },
  {
   "cell_type": "code",
   "execution_count": 4,
   "metadata": {},
   "outputs": [
    {
     "ename": "SyntaxError",
     "evalue": "invalid syntax (<ipython-input-4-d7de3ccbd836>, line 1)",
     "output_type": "error",
     "traceback": [
      "\u001b[1;36m  File \u001b[1;32m\"<ipython-input-4-d7de3ccbd836>\"\u001b[1;36m, line \u001b[1;32m1\u001b[0m\n\u001b[1;33m    for i in the range(len())\u001b[0m\n\u001b[1;37m                 ^\u001b[0m\n\u001b[1;31mSyntaxError\u001b[0m\u001b[1;31m:\u001b[0m invalid syntax\n"
     ]
    }
   ],
   "source": [
    "for i in the range(len())"
   ]
  },
  {
   "cell_type": "code",
   "execution_count": 4,
   "metadata": {},
   "outputs": [
    {
     "data": {
      "text/plain": [
       "{0: ['Size', 'No.', 'of', 'Timestamp', 'Time', 'stamp', 'ID'],\n",
       " 1: ['Database', 'name', '(MB)', 'records', '1st', 'record', 'last']}"
      ]
     },
     "execution_count": 4,
     "metadata": {},
     "output_type": "execute_result"
    }
   ],
   "source": [
    "o=[]\n",
    "pk1 ={}\n",
    "p=0\n",
    "for i in range(len(bboxtxt_list)-1):\n",
    "        o.append(bboxtxt_list[i])\n",
    "        pk1[p]= o\n",
    "        if(jkl[i]<0):\n",
    "            jkl[i] =jkl[i] \n",
    "            p+=1\n",
    "            o=[]\n",
    "#pk[p].append(bboxtxt_list[len(bboxtxt_list)-1])\n",
    "\n",
    "pk1\n",
    "        \n",
    "    "
   ]
  },
  {
   "cell_type": "code",
   "execution_count": 8,
   "metadata": {
    "jupyter": {
     "source_hidden": true
    }
   },
   "outputs": [
    {
     "data": {
      "text/plain": [
       "['',\n",
       " 'Patients',\n",
       " '0000',\n",
       " 'with',\n",
       " '00000000000000000000000000000000',\n",
       " 'Patients',\n",
       " '000',\n",
       " 'with',\n",
       " 'Spontaneous',\n",
       " '00000000000000000000000000000000000000',\n",
       " 'Secondary',\n",
       " '000000000000000000000000000000000000000',\n",
       " '—Control',\n",
       " 'Thrombosis',\n",
       " '0000000000000000000000000000000000000',\n",
       " 'Thrombosis',\n",
       " '00000000000000000000000000000000',\n",
       " 'Subjects',\n",
       " 'Characteristic',\n",
       " '0000000000000000000000000000000000000000000000000000000000000000000000000000000000000000000000000000000000000000000000000000000000000',\n",
       " '(N=153)',\n",
       " '0000000000000000000000000000000000000000000000000000000000',\n",
       " '(N=146)',\n",
       " '000000000',\n",
       " '—',\n",
       " '00000000',\n",
       " '(N=150)']"
      ]
     },
     "execution_count": 8,
     "metadata": {},
     "output_type": "execute_result"
    }
   ],
   "source": [
    "n=bboxtxt_list\n",
    "ety=[]\n",
    "for i in range(len(jkl)):\n",
    "    \n",
    "    if(jkl[i]>=0):\n",
    "            llll='0'*jkl[i]\n",
    "            ety.append(llll)\n",
    "            llll='0'\n",
    "    ety.append(n[i])\n",
    "\n",
    "ety\n",
    "    "
   ]
  },
  {
   "cell_type": "code",
   "execution_count": 206,
   "metadata": {
    "collapsed": true,
    "jupyter": {
     "outputs_hidden": true,
     "source_hidden": true
    }
   },
   "outputs": [
    {
     "data": {
      "text/plain": [
       "{0: ['slices', 'abs.', 'error', '(%)', 'abs.', 'error'],\n",
       " 1: ['slices', 'abs.', 'error', '(%)', 'abs.', 'error'],\n",
       " 2: ['slices', 'abs.', 'error', '(%)', 'abs.', 'error'],\n",
       " 3: ['avg.', 'max.', 'avg.'],\n",
       " 4: ['avg.', 'max.', 'avg.']}"
      ]
     },
     "execution_count": 206,
     "metadata": {},
     "output_type": "execute_result"
    }
   ],
   "source": [
    "o=[]\n",
    "pk1 ={}\n",
    "p=0\n",
    "for i in range(len(bboxtxt_list)-1):\n",
    "        \n",
    "        if(jkl[i]>=0 and jkl[i]<=30):\n",
    "            o.append(bboxtxt_list[i])   \n",
    "            pk1[p]= o\n",
    "        elif(jkl[i]<0):\n",
    "            o=[]\n",
    "            o.append(bboxtxt_list[i])\n",
    "        elif(jkl[i]>30):\n",
    "            p+=1\n",
    "            o.append(bboxtxt_list[i])\n",
    "            pk1[p]=o\n",
    "        \n",
    "            \n",
    "\n",
    "            \n",
    "#pk[p].append(bboxtxt_list[len(bboxtxt_list)-1])\n",
    "\n",
    "pk1\n",
    "        \n",
    "    "
   ]
  },
  {
   "cell_type": "code",
   "execution_count": 5,
   "metadata": {},
   "outputs": [],
   "source": [
    "lss=[]\n",
    "res1 = {i:[left[i],x_max[i], abs(left[i+1]-x_max[i]),bboxtxt_list[i]] for i in range(len(left)-1)}\n",
    "od = {k: v for k, v in sorted(res1.items(), key=lambda item: item[1][1])}\n",
    "for j in od.values():\n",
    "    lss.append(j)\n",
    "    \n",
    "res2 = {i:lss[i] for i in range(len(lss))}"
   ]
  },
  {
   "cell_type": "code",
   "execution_count": 6,
   "metadata": {},
   "outputs": [
    {
     "data": {
      "text/plain": [
       "{0: [30, 55, 27, 'ID'],\n",
       " 1: [82, 176, 10, 'Database'],\n",
       " 2: [186, 239, 28, 'name'],\n",
       " 3: [275, 314, 39, 'Size'],\n",
       " 4: [267, 321, 28, '(MB)'],\n",
       " 5: [353, 388, 13, 'No.'],\n",
       " 6: [401, 421, 28, 'of'],\n",
       " 7: [349, 423, 37, 'records'],\n",
       " 8: [460, 488, 10, '1st'],\n",
       " 9: [498, 563, 44, 'record'],\n",
       " 10: [449, 573, 27, 'Timestamp'],\n",
       " 11: [607, 641, 10, 'last'],\n",
       " 12: [600, 652, 9, 'Time'],\n",
       " 13: [661, 723, 693, 'stamp']}"
      ]
     },
     "execution_count": 6,
     "metadata": {},
     "output_type": "execute_result"
    }
   ],
   "source": [
    "res2"
   ]
  },
  {
   "cell_type": "code",
   "execution_count": null,
   "metadata": {},
   "outputs": [],
   "source": []
  },
  {
   "cell_type": "code",
   "execution_count": 7,
   "metadata": {},
   "outputs": [
    {
     "data": {
      "text/plain": [
       "{0: ['ID',\n",
       "  'Database',\n",
       "  'name',\n",
       "  'Size',\n",
       "  '(MB)',\n",
       "  'No.',\n",
       "  'of',\n",
       "  'records',\n",
       "  '1st',\n",
       "  'record',\n",
       "  'Timestamp',\n",
       "  'last',\n",
       "  'Time',\n",
       "  'stamp']}"
      ]
     },
     "execution_count": 7,
     "metadata": {},
     "output_type": "execute_result"
    }
   ],
   "source": [
    "jsh = res2[0][2]\n",
    "o=0\n",
    "m=[]\n",
    "klm ={}\n",
    "for i,j in res2.items():\n",
    "    \n",
    "    if(res2[i][2]<=8):\n",
    "        o+=1\n",
    "        m=[]\n",
    "    m.append(j[3])\n",
    "    klm[o]=m   \n",
    "klm\n"
   ]
  },
  {
   "cell_type": "code",
   "execution_count": null,
   "metadata": {},
   "outputs": [],
   "source": []
  }
 ],
 "metadata": {
  "kernelspec": {
   "display_name": "Python 3",
   "language": "python",
   "name": "python3"
  },
  "language_info": {
   "codemirror_mode": {
    "name": "ipython",
    "version": 3
   },
   "file_extension": ".py",
   "mimetype": "text/x-python",
   "name": "python",
   "nbconvert_exporter": "python",
   "pygments_lexer": "ipython3",
   "version": "3.8.3"
  }
 },
 "nbformat": 4,
 "nbformat_minor": 4
}
