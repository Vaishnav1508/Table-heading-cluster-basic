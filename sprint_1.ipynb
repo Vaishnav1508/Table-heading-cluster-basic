{
 "cells": [
  {
   "cell_type": "code",
   "execution_count": 2,
   "metadata": {},
   "outputs": [
    {
     "name": "stdout",
     "output_type": "stream",
     "text": [
      "Size\n",
      "No.\n",
      "of\n",
      "Timestamp\n",
      "Time\n",
      "stamp\n",
      "ID\n",
      "Database\n",
      "name\n",
      "(MB)\n",
      "records\n",
      "1st\n",
      "record\n",
      "last\n",
      "record\n",
      "[(275, 3, 39, 15), (353, 4, 35, 15), (401, 4, 20, 15), (449, 2, 124, 19), (600, 2, 52, 15), (661, 4, 62, 17), (30, 16, 25, 15), (82, 16, 94, 15), (186, 21, 53, 10), (267, 24, 54, 21), (349, 25, 74, 14), (460, 28, 28, 13), (498, 27, 65, 14), (607, 27, 34, 14), (651, 27, 65, 14)]\n"
     ]
    }
   ],
   "source": [
    "import pytesseract\n",
    "from pytesseract import Output\n",
    "import cv2\n",
    "img = cv2.imread('b1.png')\n",
    "\n",
    "d = pytesseract.image_to_data(img, output_type=Output.DICT)\n",
    "n_boxes = len(d['level'])\n",
    "bbox_list =[]\n",
    "bboxtxt_list=[]\n",
    "for i in range(n_boxes):\n",
    "    if(d['text'][i] != \"\"):\n",
    "        (x, y, w, h) = (d['left'][i], d['top'][i], d['width'][i], d['height'][i])\n",
    "        cv2.rectangle(img, (x, y), (x + w, y + h), (0, 255, 0), 2)\n",
    "        bbox = (x, y, w, h)\n",
    "        bbox_list.append(bbox)\n",
    "        bboxtxt_list.append(d['text'][i])\n",
    "        print(d['text'][i])\n",
    "print(bbox_list)\n",
    "cv2.imshow('img', img)\n",
    "cv2.waitKey(0)\n",
    "cv2.destroyAllWindows()\n"
   ]
  },
  {
   "cell_type": "code",
   "execution_count": 3,
   "metadata": {},
   "outputs": [
    {
     "name": "stdout",
     "output_type": "stream",
     "text": [
      "[275, 353, 401, 449, 600, 661, 30, 82, 186, 267, 349, 460, 498, 607, 651]\n",
      "[3, 4, 4, 2, 2, 4, 16, 16, 21, 24, 25, 28, 27, 27, 27]\n",
      "['Size', 'No.', 'of', 'Timestamp', 'Time', 'stamp', 'ID', 'Database', 'name', '(MB)', 'records', '1st', 'record', 'last', 'record']\n"
     ]
    }
   ],
   "source": [
    "left=[]\n",
    "top=[]\n",
    "width=[]\n",
    "height=[]\n",
    "for i in range(len(bbox_list)):\n",
    "        left.append(bbox_list[i][0])\n",
    "        top.append(bbox_list[i][1])\n",
    "        width.append(bbox_list[i][2])\n",
    "        height.append(bbox_list[i][3])\n",
    "print(left)\n",
    "print(top)\n",
    "print(bboxtxt_list)"
   ]
  },
  {
   "cell_type": "code",
   "execution_count": null,
   "metadata": {},
   "outputs": [],
   "source": []
  },
  {
   "cell_type": "code",
   "execution_count": 4,
   "metadata": {},
   "outputs": [
    {
     "data": {
      "text/plain": [
       "{0: [275, 'Size'],\n",
       " 1: [353, 'No.'],\n",
       " 2: [401, 'of'],\n",
       " 3: [449, 'Timestamp'],\n",
       " 4: [600, 'Time'],\n",
       " 5: [661, 'stamp'],\n",
       " 6: [30, 'ID'],\n",
       " 7: [82, 'Database'],\n",
       " 8: [186, 'name'],\n",
       " 9: [267, '(MB)'],\n",
       " 10: [349, 'records'],\n",
       " 11: [460, '1st'],\n",
       " 12: [498, 'record'],\n",
       " 13: [607, 'last'],\n",
       " 14: [651, 'record']}"
      ]
     },
     "execution_count": 4,
     "metadata": {},
     "output_type": "execute_result"
    }
   ],
   "source": [
    "res = {i:[left[i],bboxtxt_list[i]] for i in range(len(left))}\n",
    "res"
   ]
  },
  {
   "cell_type": "code",
   "execution_count": 5,
   "metadata": {},
   "outputs": [
    {
     "name": "stdout",
     "output_type": "stream",
     "text": [
      "{6: [30, 'ID'], 7: [82, 'Database'], 8: [186, 'name'], 9: [267, '(MB)'], 0: [275, 'Size'], 10: [349, 'records'], 1: [353, 'No.'], 2: [401, 'of'], 3: [449, 'Timestamp'], 11: [460, '1st'], 12: [498, 'record'], 4: [600, 'Time'], 13: [607, 'last'], 14: [651, 'record'], 5: [661, 'stamp']}\n"
     ]
    },
    {
     "data": {
      "text/plain": [
       "{1: ['ID', 'Database'],\n",
       " 2: ['name', '(MB)', 'Size'],\n",
       " 3: ['records', 'No.'],\n",
       " 4: ['of', 'Timestamp', '1st', 'record', 'Time', 'last', 'record', 'stamp']}"
      ]
     },
     "execution_count": 5,
     "metadata": {},
     "output_type": "execute_result"
    }
   ],
   "source": [
    "import collections\n",
    "pk ={1:[],2:[],3:[],4:[]}\n",
    "od = {k: v for k, v in sorted(res.items(), key=lambda item: item[1][0])}\n",
    "print(od)\n",
    "for k in od.keys():\n",
    "    if(od[k][0]>0 and od[k][0]<=100):\n",
    "        pk[1].append(od[k][1])\n",
    "    elif(od[k][0]>100 and od[k][0]<=300):\n",
    "        pk[2].append(od[k][1])\n",
    "    elif(od[k][0]>300 and od[k][0]<=400):\n",
    "        pk[3].append(od[k][1])\n",
    "    elif(od[k][0]>400):\n",
    "        pk[4].append(od[k][1])\n",
    "        \n",
    "pk     "
   ]
  },
  {
   "cell_type": "code",
   "execution_count": 5,
   "metadata": {},
   "outputs": [
    {
     "name": "stdout",
     "output_type": "stream",
     "text": [
      "{'line1': [], 'line2': [], 'line3': ['avg.', 'avg.', 'max', 'max.'], 'line4': []}\n"
     ]
    }
   ],
   "source": [
    "res1 = {i: [top[i], bboxtxt_list[i]] for i in range(len(top))}\n",
    "pk1={\"line1\":[],\"line2\":[],\"line3\":[],\"line4\":[]}\n",
    "od1={k: v for k, v in sorted(res1.items(), key=lambda item: item[1])}\n",
    "for k in od1.keys():\n",
    "    if(od1[k][0]> 10 and od1[k][0]<=20):\n",
    "        pk1[\"line1\"].append(od1[k][1])\n",
    "    elif(od1[k][0]> 20 and od1[k][0]<=30):\n",
    "        pk1[\"line2\"].append(od1[k][1])\n",
    "    elif(od1[k][0]> 30 and od1[k][0]<=50):\n",
    "        pk1[\"line3\"].append(od1[k][1])\n",
    "    elif(od1[k][0]> 50):\n",
    "        pk1[\"line4\"].append(od1[k][1])\n",
    "print(pk1)\n",
    " \n",
    "#consider the distance btw the bboxes and then separate them         "
   ]
  },
  {
   "cell_type": "markdown",
   "metadata": {},
   "source": [
    "###Clusterd Dictionary"
   ]
  },
  {
   "cell_type": "code",
   "execution_count": 8,
   "metadata": {},
   "outputs": [
    {
     "name": "stdout",
     "output_type": "stream",
     "text": [
      "{1: ['Characteristic'], 2: ['Spontaneous', 'Patients', 'Thrombosis', '(N=153)', 'with'], 3: ['Patients', 'Thrombosis', 'Secondary', '(N=146)', 'with'], 4: ['—', 'Subjects', '(N=150)', '—Control']}\n"
     ]
    }
   ],
   "source": [
    "print(pk)"
   ]
  },
  {
   "cell_type": "markdown",
   "metadata": {},
   "source": [
    "#xmax\n",
    "#Using clustering how to cluster the coordinates wrt x & y \n",
    "#kmeans \n",
    "Basically diff clustering \n",
    "how can kmeans in this problem\n",
    "and also come up with genralised problem \n",
    "\n",
    "#### find out how to get the no. of clusters needed\n",
    "### Try using difference"
   ]
  },
  {
   "cell_type": "code",
   "execution_count": null,
   "metadata": {},
   "outputs": [],
   "source": []
  }
 ],
 "metadata": {
  "kernelspec": {
   "display_name": "Python 3",
   "language": "python",
   "name": "python3"
  },
  "language_info": {
   "codemirror_mode": {
    "name": "ipython",
    "version": 3
   },
   "file_extension": ".py",
   "mimetype": "text/x-python",
   "name": "python",
   "nbconvert_exporter": "python",
   "pygments_lexer": "ipython3",
   "version": "3.8.3"
  }
 },
 "nbformat": 4,
 "nbformat_minor": 4
}
