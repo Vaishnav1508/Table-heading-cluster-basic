{
 "cells": [
  {
   "cell_type": "code",
   "execution_count": 31,
   "metadata": {},
   "outputs": [],
   "source": [
    "import pytesseract\n",
    "from pytesseract import Output\n",
    "import cv2\n",
    "from PIL import Image\n",
    "import numpy as np\n",
    "import matplotlib.pyplot as plt\n",
    "import glob\n",
    "import pandas as pd\n",
    "import time\n",
    "import sys\n",
    "import numpy as np\n"
   ]
  },
  {
   "cell_type": "code",
   "execution_count": 61,
   "metadata": {},
   "outputs": [
    {
     "name": "stdout",
     "output_type": "stream",
     "text": [
      "233.3082226247987\n"
     ]
    }
   ],
   "source": [
    "\n",
    "filepath='Text column name extraction/New folder/f.png'\n",
    "\n",
    "image1 = cv2.imread(filepath)\n",
    "print(image1.mean())\n",
    "img = cv2.cvtColor(image1, cv2.COLOR_BGR2GRAY)\n",
    "ret, thresh1 = cv2.threshold(img, 120, 255, cv2.THRESH_BINARY + \n",
    "                                            cv2.THRESH_OTSU)     \n",
    "if(thresh1.mean()<=30):\n",
    "    thresh1 =255- thresh1  \n",
    "\n",
    "cv2.imshow('Otsu Threshold', thresh1)     \n",
    "#cv2.imwrite(filepath, invert)      \n",
    "# De-allocate any associated memory usage         \n",
    "if cv2.waitKey(0) & 0xff == 27:\n",
    "    cv2.destroyAllWindows()     "
   ]
  },
  {
   "cell_type": "code",
   "execution_count": null,
   "metadata": {},
   "outputs": [],
   "source": []
  },
  {
   "cell_type": "code",
   "execution_count": null,
   "metadata": {},
   "outputs": [],
   "source": []
  },
  {
   "cell_type": "code",
   "execution_count": null,
   "metadata": {},
   "outputs": [],
   "source": []
  }
 ],
 "metadata": {
  "kernelspec": {
   "display_name": "Python 3",
   "language": "python",
   "name": "python3"
  },
  "language_info": {
   "codemirror_mode": {
    "name": "ipython",
    "version": 3
   },
   "file_extension": ".py",
   "mimetype": "text/x-python",
   "name": "python",
   "nbconvert_exporter": "python",
   "pygments_lexer": "ipython3",
   "version": "3.8.3"
  }
 },
 "nbformat": 4,
 "nbformat_minor": 4
}
