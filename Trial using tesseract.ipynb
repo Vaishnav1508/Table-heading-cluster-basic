{
 "cells": [
  {
   "cell_type": "code",
   "execution_count": 123,
   "metadata": {
    "collapsed": true,
    "jupyter": {
     "outputs_hidden": true,
     "source_hidden": true
    }
   },
   "outputs": [
    {
     "name": "stdout",
     "output_type": "stream",
     "text": [
      "Patients with Patients with\n",
      "\n",
      "Spontaneous Secondary Control\n",
      "\n",
      "Thrombosis Thrombosis Subjects\n",
      "Characteristic (N=153) (N=146) — (N=150)\n",
      "Age—yr 67.016.7 65.82174 — 65.4415.7\n",
      "Male sex —no. (96) 71 (464) 65 (44.5) 68 (45.3)\n",
      "Smoker — no. (96) 40 (26.1) 49 (33.6) 45 (30.0)\n",
      "Hypertension —no. (96) 46 (30.1) 37 (25.3) 46 (30.7)\n",
      "Hyperlipidemia — no. (9) 25 (16.3) 171.6) 25 (16.7)\n",
      "Obesity — no. (96) 117.2) 12 8.2) 16 (10.7)\n",
      "Diabetes — no. (36) 16 (10.5) 12 8.2) 18 (12.0)\n",
      "Screened for thrombophilia 68 (44.4) 64 (43.8) -\n",
      "\n",
      "—no. (%)\n",
      "\n",
      "‘Thrombophilia — no. 25} 1st -\n",
      "\f",
      "\n"
     ]
    },
    {
     "ename": "AttributeError",
     "evalue": "module 'cv2.cv2' has no attribute 'destroyallwindows'",
     "output_type": "error",
     "traceback": [
      "\u001b[1;31m---------------------------------------------------------------------------\u001b[0m",
      "\u001b[1;31mAttributeError\u001b[0m                            Traceback (most recent call last)",
      "\u001b[1;32m<ipython-input-123-420ffa3abb6a>\u001b[0m in \u001b[0;36m<module>\u001b[1;34m\u001b[0m\n\u001b[0;32m     24\u001b[0m \u001b[1;33m\u001b[0m\u001b[0m\n\u001b[0;32m     25\u001b[0m \u001b[0mcv2\u001b[0m\u001b[1;33m.\u001b[0m\u001b[0mwaitKey\u001b[0m\u001b[1;33m(\u001b[0m\u001b[1;33m)\u001b[0m\u001b[1;33m\u001b[0m\u001b[1;33m\u001b[0m\u001b[0m\n\u001b[1;32m---> 26\u001b[1;33m \u001b[0mcv2\u001b[0m\u001b[1;33m.\u001b[0m\u001b[0mdestroyallwindows\u001b[0m\u001b[1;33m(\u001b[0m\u001b[1;33m)\u001b[0m\u001b[1;33m\u001b[0m\u001b[1;33m\u001b[0m\u001b[0m\n\u001b[0m",
      "\u001b[1;31mAttributeError\u001b[0m: module 'cv2.cv2' has no attribute 'destroyallwindows'"
     ]
    }
   ],
   "source": [
    "import cv2\n",
    "import numpy as np\n",
    "import pytesseract\n",
    "\n",
    "pytesseract.pytesseract.tesseract_cmd = r\"C:\\Program Files\\Tesseract-OCR\\tesseract.exe\"\n",
    "\n",
    "image = cv2.imread('C:/Users/Vaishnav/Desktop/a.jpg')\n",
    "gray = cv2.cvtColor(image, cv2.COLOR_BGR2GRAY)\n",
    "kernel = np.array([[-1,-1,-1], [-1,9,-1], [-1,-1,-1]])\n",
    "sharpen = cv2.filter2D(gray, -1, kernel)\n",
    "\n",
    "thresh = cv2.threshold(sharpen, 0, 255, cv2.THRESH_BINARY_INV + cv2.THRESH_OTSU)[1]\n",
    "\n",
    "blur = cv2.GaussianBlur(thresh, (3,3), 0)\n",
    "invert = 255 - blur\n",
    "data1 = pytesseract.image_to_string(image, lang='eng',config='--psm 6')\n",
    "data2 = pytesseract.image_to_string(gray, lang='eng',config='--psm 6')\n",
    "data3 = pytesseract.image_to_string(kernel, lang='eng',config='--psm 6')\n",
    "data4 = pytesseract.image_to_string(sharpen, lang='eng',config='--psm 6')\n",
    "data5 = pytesseract.image_to_string(invert, lang='eng',config='--psm 6')\n",
    "print(data5)\n",
    "\n",
    "cv2.imshow('sharpen', sharpen)\n",
    "\n",
    "cv2.waitKey()\n",
    "cv2.destroyallwindows()"
   ]
  },
  {
   "cell_type": "code",
   "execution_count": 16,
   "metadata": {},
   "outputs": [
    {
     "name": "stdout",
     "output_type": "stream",
     "text": [
      "Patients\n",
      "with\n",
      "Patients\n",
      "with\n",
      "Spontaneous\n",
      "Secondary\n",
      "—Control\n",
      "Thrombosis\n",
      "Thrombosis\n",
      "Subjects\n",
      "Characteristic\n",
      "(N=153)\n",
      "(N=146)\n",
      "—\n",
      "(N=150)\n",
      "[(216, 12, 50, 11), (270, 11, 26, 12), (328, 12, 49, 11), (380, 11, 27, 12), (215, 30, 82, 14), (335, 28, 66, 16), (440, 28, 46, 12), (218, 45, 75, 12), (330, 45, 75, 12), (437, 45, 52, 16), (1, 55, 95, 29), (229, 55, 54, 29), (341, 64, 54, 14), (404, 55, 25, 29), (437, 63, 53, 15)]\n"
     ]
    }
   ],
   "source": [
    "import pytesseract\n",
    "from pytesseract import Output\n",
    "import cv2\n",
    "img = cv2.imread('a1.jpg')\n",
    "\n",
    "d = pytesseract.image_to_data(img, output_type=Output.DICT)\n",
    "n_boxes = len(d['level'])\n",
    "bbox_list =[]\n",
    "bboxtxt_list=[]\n",
    "for i in range(n_boxes):\n",
    "    if(d['text'][i] != \"\"):\n",
    "        (x, y, w, h) = (d['left'][i], d['top'][i], d['width'][i], d['height'][i])\n",
    "        cv2.rectangle(img, (x, y), (x + w, y + h), (0, 255, 0), 2)\n",
    "        bbox = (x, y, w, h)\n",
    "        bbox_list.append(bbox)\n",
    "        bboxtxt_list.append(d['text'][i])\n",
    "        print(d['text'][i])\n",
    "print(bbox_list)\n",
    "cv2.imshow('img', img)\n",
    "cv2.waitKey(0)\n",
    "cv2.destroyAllWindows()"
   ]
  },
  {
   "cell_type": "code",
   "execution_count": 17,
   "metadata": {},
   "outputs": [],
   "source": [
    "left=[]\n",
    "top=[]\n",
    "width=[]\n",
    "height=[]\n",
    "for i in range(len(bbox_list)):\n",
    "        left.append(bbox_list[i][0])\n",
    "        top.append(bbox_list[i][1])\n",
    "        width.append(bbox_list[i][2])\n",
    "        height.append(bbox_list[i][3])"
   ]
  },
  {
   "cell_type": "code",
   "execution_count": 18,
   "metadata": {},
   "outputs": [
    {
     "name": "stdout",
     "output_type": "stream",
     "text": [
      "[216, 270, 328, 380, 215, 335, 440, 218, 330, 437, 1, 229, 341, 404, 437]\n",
      "[12, 11, 12, 11, 30, 28, 28, 45, 45, 45, 55, 55, 64, 55, 63]\n",
      "['Patients', 'with', 'Patients', 'with', 'Spontaneous', 'Secondary', '—Control', 'Thrombosis', 'Thrombosis', 'Subjects', 'Characteristic', '(N=153)', '(N=146)', '—', '(N=150)']\n"
     ]
    }
   ],
   "source": [
    "print(left)\n",
    "print(top)\n",
    "print(bboxtxt_list)"
   ]
  },
  {
   "cell_type": "code",
   "execution_count": 57,
   "metadata": {},
   "outputs": [],
   "source": [
    "res = {[left[i],bboxtxt_list[i]] for i in range(len(left))}"
   ]
  },
  {
   "cell_type": "code",
   "execution_count": 82,
   "metadata": {},
   "outputs": [
    {
     "name": "stdout",
     "output_type": "stream",
     "text": [
      "{10: [1, 'Characteristic'], 4: [215, 'Spontaneous'], 0: [216, 'Patients'], 7: [218, 'Thrombosis'], 11: [229, '(N=153)'], 1: [270, 'with'], 2: [328, 'Patients'], 8: [330, 'Thrombosis'], 5: [335, 'Secondary'], 12: [341, '(N=146)'], 3: [380, 'with'], 13: [404, '—'], 9: [437, 'Subjects'], 14: [437, '(N=150)'], 6: [440, '—Control']}\n"
     ]
    },
    {
     "data": {
      "text/plain": [
       "{1: ['Characteristic'],\n",
       " 2: ['Spontaneous', 'Patients', 'Thrombosis', '(N=153)', 'with'],\n",
       " 3: ['Patients', 'Thrombosis', 'Secondary', '(N=146)', 'with'],\n",
       " 4: ['—', 'Subjects', '(N=150)', '—Control']}"
      ]
     },
     "execution_count": 82,
     "metadata": {},
     "output_type": "execute_result"
    }
   ],
   "source": [
    "import collections\n",
    "pk ={1:[],2:[],3:[],4:[]}\n",
    "od = {k: v for k, v in sorted(res.items(), key=lambda item: item[1][0])}\n",
    "print(od)\n",
    "for k in od.keys():\n",
    "    if(od[k][0]>0 and od[k][0]<=100):\n",
    "        pk[1].append(od[k][1])\n",
    "    elif(od[k][0]>100 and od[k][0]<=300):\n",
    "        pk[2].append(od[k][1])\n",
    "    elif(od[k][0]>300 and od[k][0]<=400):\n",
    "        pk[3].append(od[k][1])\n",
    "    elif(od[k][0]>400):\n",
    "        pk[4].append(od[k][1])\n",
    "        \n",
    "pk     "
   ]
  },
  {
   "cell_type": "code",
   "execution_count": 93,
   "metadata": {},
   "outputs": [
    {
     "name": "stdout",
     "output_type": "stream",
     "text": [
      "{'line1': ['with', 'with', 'Patients', 'Patients'], 'line2': ['Secondary', '—Control', 'Spontaneous'], 'line3': ['Subjects', 'Thrombosis', 'Thrombosis'], 'line4': ['(N=153)', 'Characteristic', '—', '(N=150)', '(N=146)']}\n"
     ]
    }
   ],
   "source": [
    "res1 = {i: [top[i], bboxtxt_list[i]] for i in range(len(top))}\n",
    "pk1={\"line1\":[],\"line2\":[],\"line3\":[],\"line4\":[]}\n",
    "od1={k: v for k, v in sorted(res1.items(), key=lambda item: item[1])}\n",
    "for k in od1.keys():\n",
    "    if(od1[k][0]> 10 and od1[k][0]<=20):\n",
    "        pk1[\"line1\"].append(od1[k][1])\n",
    "    elif(od1[k][0]> 20 and od1[k][0]<=30):\n",
    "        pk1[\"line2\"].append(od1[k][1])\n",
    "    elif(od1[k][0]> 30 and od1[k][0]<=50):\n",
    "        pk1[\"line3\"].append(od1[k][1])\n",
    "    elif(od1[k][0]> 50):\n",
    "        pk1[\"line4\"].append(od1[k][1])\n",
    "print(pk1)\n",
    " \n",
    "        "
   ]
  },
  {
   "cell_type": "code",
   "execution_count": 113,
   "metadata": {
    "collapsed": true,
    "jupyter": {
     "outputs_hidden": true,
     "source_hidden": true
    }
   },
   "outputs": [
    {
     "name": "stdout",
     "output_type": "stream",
     "text": [
      "[216 270 328 380 215 335 440 218 330 437   1 229 341 404 437  12  11  12\n",
      "  11  30  28  28  45  45  45  55  55  64  55  63]\n",
      "[[216]\n",
      " [270]\n",
      " [328]\n",
      " [380]\n",
      " [215]\n",
      " [335]\n",
      " [440]\n",
      " [218]\n",
      " [330]\n",
      " [437]\n",
      " [  1]\n",
      " [229]\n",
      " [341]\n",
      " [404]\n",
      " [437]\n",
      " [ 12]\n",
      " [ 11]\n",
      " [ 12]\n",
      " [ 11]\n",
      " [ 30]\n",
      " [ 28]\n",
      " [ 28]\n",
      " [ 45]\n",
      " [ 45]\n",
      " [ 45]\n",
      " [ 55]\n",
      " [ 55]\n",
      " [ 64]\n",
      " [ 55]\n",
      " [ 63]]\n",
      "[[216.]\n",
      " [270.]\n",
      " [328.]\n",
      " [380.]\n",
      " [215.]\n",
      " [335.]\n",
      " [440.]\n",
      " [218.]\n",
      " [330.]\n",
      " [437.]\n",
      " [  1.]\n",
      " [229.]\n",
      " [341.]\n",
      " [404.]\n",
      " [437.]\n",
      " [ 12.]\n",
      " [ 11.]\n",
      " [ 12.]\n",
      " [ 11.]\n",
      " [ 30.]\n",
      " [ 28.]\n",
      " [ 28.]\n",
      " [ 45.]\n",
      " [ 45.]\n",
      " [ 45.]\n",
      " [ 55.]\n",
      " [ 55.]\n",
      " [ 64.]\n",
      " [ 55.]\n",
      " [ 63.]]\n"
     ]
    },
    {
     "data": {
      "image/png": "[encoded data removed]",
      "text/plain": [
       "<Figure size 432x288 with 1 Axes>"
      ]
     },
     "metadata": {
      "needs_background": "light"
     },
     "output_type": "display_data"
    },
    {
     "data": {
      "text/plain": [
       "((array([0., 1., 0., 0., 0., 0., 0., 0., 0., 0., 0., 2., 2., 0., 0., 0., 0.,\n",
       "         0., 0., 0., 0., 0., 0., 0., 0., 0., 0., 0., 2., 0., 1., 0., 0., 0.,\n",
       "         0., 0., 0., 0., 0., 0., 0., 0., 0., 0., 0., 3., 0., 0., 0., 0., 0.,\n",
       "         0., 0., 0., 0., 3., 0., 0., 0., 0., 0., 0., 0., 1., 1., 0., 0., 0.,\n",
       "         0., 0., 0., 0., 0., 0., 0., 0., 0., 0., 0., 0., 0., 0., 0., 0., 0.,\n",
       "         0., 0., 0., 0., 0., 0., 0., 0., 0., 0., 0., 0., 0., 0., 0., 0., 0.,\n",
       "         0., 0., 0., 0., 0., 0., 0., 0., 0., 0., 0., 0., 0., 0., 0., 0., 0.,\n",
       "         0., 0., 0., 0., 0., 0., 0., 0., 0., 0., 0., 0., 0., 0., 0., 0., 0.,\n",
       "         0., 0., 0., 0., 0., 0., 0., 0., 0., 0., 0., 0., 0., 0., 0., 0., 0.,\n",
       "         0., 0., 0., 0., 0., 0., 0., 0., 0., 0., 0., 0., 0., 0., 0., 0., 0.,\n",
       "         0., 0., 0., 0., 0., 0., 0., 0., 0., 0., 0., 0., 0., 0., 0., 0., 0.,\n",
       "         0., 0., 0., 0., 0., 0., 0., 0., 0., 0., 0., 0., 0., 0., 0., 0., 0.,\n",
       "         0., 0., 0., 0., 0., 0., 0., 0., 0., 0., 0., 1., 1., 0., 1., 0., 0.,\n",
       "         0., 0., 0., 0., 0., 0., 0., 0., 1., 0., 0., 0., 0., 0., 0., 0., 0.,\n",
       "         0., 0., 0., 0., 0., 0., 0., 0., 0., 0., 0., 0., 0., 0., 0., 0., 0.,\n",
       "         0., 0., 0., 0., 0., 0., 0., 0., 0., 0., 0., 0., 0., 0., 0., 1., 0.,\n",
       "         0., 0., 0., 0., 0., 0., 0., 0., 0., 0., 0., 0., 0., 0., 0., 0., 0.,\n",
       "         0., 0., 0., 0., 0., 0., 0., 0., 0., 0., 0., 0., 0., 0., 0., 0., 0.,\n",
       "         0., 0., 0., 0., 0., 0., 0., 0., 0., 0., 0., 0., 0., 0., 0., 0., 0.,\n",
       "         0., 0., 0., 0., 0., 1., 0., 1., 0., 0., 0., 0., 1., 0., 0., 0., 0.,\n",
       "         0., 1., 0., 0., 0., 0., 0., 0., 0., 0., 0., 0., 0., 0., 0., 0., 0.,\n",
       "         0., 0., 0., 0., 0., 0., 0., 0., 0., 0., 0., 0., 0., 0., 0., 0., 0.,\n",
       "         0., 0., 0., 0., 0., 0., 1., 0., 0., 0., 0., 0., 0., 0., 0., 0., 0.,\n",
       "         0., 0., 0., 0., 0., 0., 0., 0., 0., 0., 0., 0., 0., 1., 0., 0., 0.,\n",
       "         0., 0., 0., 0., 0., 0., 0., 0., 0., 0., 0., 0., 0., 0., 0., 0., 0.,\n",
       "         0., 0., 0., 0., 0., 0., 0., 0., 0., 0., 0., 0., 2., 0., 0., 1., 0.,\n",
       "         0., 0., 0., 0., 0., 0., 0., 0., 0., 0., 0., 0., 0., 0., 0., 0., 0.,\n",
       "         0., 0., 0., 0., 0., 0., 0., 0., 0., 0., 0., 0., 0., 0., 0., 0., 0.,\n",
       "         0., 0., 0., 0., 0., 0., 0., 0., 0., 0., 0., 0., 0., 0., 0., 0., 0.,\n",
       "         0., 0., 0., 0., 0., 0., 0.]),\n",
       "  array([  0.,   1.,   2.,   3.,   4.,   5.,   6.,   7.,   8.,   9.,  10.,\n",
       "          11.,  12.,  13.,  14.,  15.,  16.,  17.,  18.,  19.,  20.,  21.,\n",
       "          22.,  23.,  24.,  25.,  26.,  27.,  28.,  29.,  30.,  31.,  32.,\n",
       "          33.,  34.,  35.,  36.,  37.,  38.,  39.,  40.,  41.,  42.,  43.,\n",
       "          44.,  45.,  46.,  47.,  48.,  49.,  50.,  51.,  52.,  53.,  54.,\n",
       "          55.,  56.,  57.,  58.,  59.,  60.,  61.,  62.,  63.,  64.,  65.,\n",
       "          66.,  67.,  68.,  69.,  70.,  71.,  72.,  73.,  74.,  75.,  76.,\n",
       "          77.,  78.,  79.,  80.,  81.,  82.,  83.,  84.,  85.,  86.,  87.,\n",
       "          88.,  89.,  90.,  91.,  92.,  93.,  94.,  95.,  96.,  97.,  98.,\n",
       "          99., 100., 101., 102., 103., 104., 105., 106., 107., 108., 109.,\n",
       "         110., 111., 112., 113., 114., 115., 116., 117., 118., 119., 120.,\n",
       "         121., 122., 123., 124., 125., 126., 127., 128., 129., 130., 131.,\n",
       "         132., 133., 134., 135., 136., 137., 138., 139., 140., 141., 142.,\n",
       "         143., 144., 145., 146., 147., 148., 149., 150., 151., 152., 153.,\n",
       "         154., 155., 156., 157., 158., 159., 160., 161., 162., 163., 164.,\n",
       "         165., 166., 167., 168., 169., 170., 171., 172., 173., 174., 175.,\n",
       "         176., 177., 178., 179., 180., 181., 182., 183., 184., 185., 186.,\n",
       "         187., 188., 189., 190., 191., 192., 193., 194., 195., 196., 197.,\n",
       "         198., 199., 200., 201., 202., 203., 204., 205., 206., 207., 208.,\n",
       "         209., 210., 211., 212., 213., 214., 215., 216., 217., 218., 219.,\n",
       "         220., 221., 222., 223., 224., 225., 226., 227., 228., 229., 230.,\n",
       "         231., 232., 233., 234., 235., 236., 237., 238., 239., 240., 241.,\n",
       "         242., 243., 244., 245., 246., 247., 248., 249., 250., 251., 252.,\n",
       "         253., 254., 255., 256., 257., 258., 259., 260., 261., 262., 263.,\n",
       "         264., 265., 266., 267., 268., 269., 270., 271., 272., 273., 274.,\n",
       "         275., 276., 277., 278., 279., 280., 281., 282., 283., 284., 285.,\n",
       "         286., 287., 288., 289., 290., 291., 292., 293., 294., 295., 296.,\n",
       "         297., 298., 299., 300., 301., 302., 303., 304., 305., 306., 307.,\n",
       "         308., 309., 310., 311., 312., 313., 314., 315., 316., 317., 318.,\n",
       "         319., 320., 321., 322., 323., 324., 325., 326., 327., 328., 329.,\n",
       "         330., 331., 332., 333., 334., 335., 336., 337., 338., 339., 340.,\n",
       "         341., 342., 343., 344., 345., 346., 347., 348., 349., 350., 351.,\n",
       "         352., 353., 354., 355., 356., 357., 358., 359., 360., 361., 362.,\n",
       "         363., 364., 365., 366., 367., 368., 369., 370., 371., 372., 373.,\n",
       "         374., 375., 376., 377., 378., 379., 380., 381., 382., 383., 384.,\n",
       "         385., 386., 387., 388., 389., 390., 391., 392., 393., 394., 395.,\n",
       "         396., 397., 398., 399., 400., 401., 402., 403., 404., 405., 406.,\n",
       "         407., 408., 409., 410., 411., 412., 413., 414., 415., 416., 417.,\n",
       "         418., 419., 420., 421., 422., 423., 424., 425., 426., 427., 428.,\n",
       "         429., 430., 431., 432., 433., 434., 435., 436., 437., 438., 439.,\n",
       "         440., 441., 442., 443., 444., 445., 446., 447., 448., 449., 450.,\n",
       "         451., 452., 453., 454., 455., 456., 457., 458., 459., 460., 461.,\n",
       "         462., 463., 464., 465., 466., 467., 468., 469., 470., 471., 472.,\n",
       "         473., 474., 475., 476., 477., 478., 479., 480., 481., 482., 483.,\n",
       "         484., 485., 486., 487., 488., 489., 490., 491., 492., 493., 494.,\n",
       "         495., 496., 497., 498., 499., 500.], dtype=float32),\n",
       "  <a list of 500 Patch objects>),\n",
       " None)"
      ]
     },
     "execution_count": 113,
     "metadata": {},
     "output_type": "execute_result"
    }
   ],
   "source": [
    "import numpy as np\n",
    "import cv2 as cv\n",
    "from matplotlib import pyplot as plt\n",
    "x = left\n",
    "y = top\n",
    "z = np.hstack((x,y))\n",
    "print(z)\n",
    "z = z.reshape((30,1))\n",
    "print(z)\n",
    "z = np.float32(z)\n",
    "print(z)\n",
    "plt.hist(z,500,[0,500]),plt.show()\n"
   ]
  },
  {
   "cell_type": "code",
   "execution_count": 119,
   "metadata": {
    "collapsed": true,
    "jupyter": {
     "outputs_hidden": true,
     "source_hidden": true
    }
   },
   "outputs": [
    {
     "name": "stdout",
     "output_type": "stream",
     "text": [
      "102189.71349942684 [[0]\n",
      " [0]\n",
      " [0]\n",
      " [0]\n",
      " [0]\n",
      " [0]\n",
      " [0]\n",
      " [0]\n",
      " [0]\n",
      " [0]\n",
      " [1]\n",
      " [0]\n",
      " [0]\n",
      " [0]\n",
      " [0]\n",
      " [1]\n",
      " [1]\n",
      " [1]\n",
      " [1]\n",
      " [1]\n",
      " [1]\n",
      " [1]\n",
      " [1]\n",
      " [1]\n",
      " [1]\n",
      " [1]\n",
      " [1]\n",
      " [1]\n",
      " [1]\n",
      " [1]] [[327.14288]\n",
      " [ 35.     ]]\n"
     ]
    }
   ],
   "source": [
    "# Define criteria = ( type, max_iter = 10 , epsilon = 1.0 )\n",
    "criteria = (cv.TERM_CRITERIA_EPS + cv.TERM_CRITERIA_MAX_ITER, 100, 1.0)\n",
    "# Set flags (Just to avoid line break in the code)\n",
    "flags = cv.KMEANS_RANDOM_CENTERS\n",
    "# Apply KMeans\n",
    "compactness,labels,centers = cv.kmeans(z,2,None,criteria,10,flags)\n",
    "print(compactness,labels,centers)"
   ]
  },
  {
   "cell_type": "code",
   "execution_count": 120,
   "metadata": {
    "jupyter": {
     "source_hidden": true
    }
   },
   "outputs": [],
   "source": [
    "A = z[labels==0]\n",
    "B = z[labels==1]"
   ]
  },
  {
   "cell_type": "code",
   "execution_count": 121,
   "metadata": {
    "collapsed": true,
    "jupyter": {
     "outputs_hidden": true,
     "source_hidden": true
    }
   },
   "outputs": [
    {
     "data": {
      "image/png": "[encoded data removed]",
      "text/plain": [
       "<Figure size 432x288 with 1 Axes>"
      ]
     },
     "metadata": {
      "needs_background": "light"
     },
     "output_type": "display_data"
    }
   ],
   "source": [
    "# Now plot 'A' in red, 'B' in blue, 'centers' in yellow\n",
    "plt.hist(A,500,[0,500],color = 'r')\n",
    "plt.hist(B,500,[0,500],color = 'b')\n",
    "plt.hist(centers,32,[0,500],color = 'y')\n",
    "plt.show()"
   ]
  },
  {
   "cell_type": "code",
   "execution_count": 122,
   "metadata": {},
   "outputs": [
    {
     "name": "stdout",
     "output_type": "stream",
     "text": [
      "{1: ['Characteristic'], 2: ['Spontaneous', 'Patients', 'Thrombosis', '(N=153)', 'with'], 3: ['Patients', 'Thrombosis', 'Secondary', '(N=146)', 'with'], 4: ['—', 'Subjects', '(N=150)', '—Control']}\n"
     ]
    }
   ],
   "source": [
    "print(pk)"
   ]
  },
  {
   "cell_type": "code",
   "execution_count": null,
   "metadata": {},
   "outputs": [],
   "source": []
  }
 ],
 "metadata": {
  "kernelspec": {
   "display_name": "Python 3",
   "language": "python",
   "name": "python3"
  },
  "language_info": {
   "codemirror_mode": {
    "name": "ipython",
    "version": 3
   },
   "file_extension": ".py",
   "mimetype": "text/x-python",
   "name": "python",
   "nbconvert_exporter": "python",
   "pygments_lexer": "ipython3",
   "version": "3.8.3"
  }
 },
 "nbformat": 4,
 "nbformat_minor": 4
}
