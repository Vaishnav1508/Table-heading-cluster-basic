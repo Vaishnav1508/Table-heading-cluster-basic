{
 "cells": [
  {
   "cell_type": "code",
   "execution_count": 123,
   "metadata": {
    "collapsed": true,
    "jupyter": {
     "outputs_hidden": true,
     "source_hidden": true
    }
   },
   "outputs": [
    {
     "name": "stdout",
     "output_type": "stream",
     "text": [
      "Patients with Patients with\n",
      "\n",
      "Spontaneous Secondary Control\n",
      "\n",
      "Thrombosis Thrombosis Subjects\n",
      "Characteristic (N=153) (N=146) — (N=150)\n",
      "Age—yr 67.016.7 65.82174 — 65.4415.7\n",
      "Male sex —no. (96) 71 (464) 65 (44.5) 68 (45.3)\n",
      "Smoker — no. (96) 40 (26.1) 49 (33.6) 45 (30.0)\n",
      "Hypertension —no. (96) 46 (30.1) 37 (25.3) 46 (30.7)\n",
      "Hyperlipidemia — no. (9) 25 (16.3) 171.6) 25 (16.7)\n",
      "Obesity — no. (96) 117.2) 12 8.2) 16 (10.7)\n",
      "Diabetes — no. (36) 16 (10.5) 12 8.2) 18 (12.0)\n",
      "Screened for thrombophilia 68 (44.4) 64 (43.8) -\n",
      "\n",
      "—no. (%)\n",
      "\n",
      "‘Thrombophilia — no. 25} 1st -\n",
      "\f",
      "\n"
     ]
    },
    {
     "ename": "AttributeError",
     "evalue": "module 'cv2.cv2' has no attribute 'destroyallwindows'",
     "output_type": "error",
     "traceback": [
      "\u001b[1;31m---------------------------------------------------------------------------\u001b[0m",
      "\u001b[1;31mAttributeError\u001b[0m                            Traceback (most recent call last)",
      "\u001b[1;32m<ipython-input-123-420ffa3abb6a>\u001b[0m in \u001b[0;36m<module>\u001b[1;34m\u001b[0m\n\u001b[0;32m     24\u001b[0m \u001b[1;33m\u001b[0m\u001b[0m\n\u001b[0;32m     25\u001b[0m \u001b[0mcv2\u001b[0m\u001b[1;33m.\u001b[0m\u001b[0mwaitKey\u001b[0m\u001b[1;33m(\u001b[0m\u001b[1;33m)\u001b[0m\u001b[1;33m\u001b[0m\u001b[1;33m\u001b[0m\u001b[0m\n\u001b[1;32m---> 26\u001b[1;33m \u001b[0mcv2\u001b[0m\u001b[1;33m.\u001b[0m\u001b[0mdestroyallwindows\u001b[0m\u001b[1;33m(\u001b[0m\u001b[1;33m)\u001b[0m\u001b[1;33m\u001b[0m\u001b[1;33m\u001b[0m\u001b[0m\n\u001b[0m",
      "\u001b[1;31mAttributeError\u001b[0m: module 'cv2.cv2' has no attribute 'destroyallwindows'"
     ]
    }
   ],
   "source": [
    "import cv2\n",
    "import numpy as np\n",
    "import pytesseract\n",
    "\n",
    "pytesseract.pytesseract.tesseract_cmd = r\"C:\\Program Files\\Tesseract-OCR\\tesseract.exe\"\n",
    "\n",
    "image = cv2.imread('C:/Users/Vaishnav/Desktop/a.jpg')\n",
    "gray = cv2.cvtColor(image, cv2.COLOR_BGR2GRAY)\n",
    "kernel = np.array([[-1,-1,-1], [-1,9,-1], [-1,-1,-1]])\n",
    "sharpen = cv2.filter2D(gray, -1, kernel)\n",
    "\n",
    "thresh = cv2.threshold(sharpen, 0, 255, cv2.THRESH_BINARY_INV + cv2.THRESH_OTSU)[1]\n",
    "\n",
    "blur = cv2.GaussianBlur(thresh, (3,3), 0)\n",
    "invert = 255 - blur\n",
    "data1 = pytesseract.image_to_string(image, lang='eng',config='--psm 6')\n",
    "data2 = pytesseract.image_to_string(gray, lang='eng',config='--psm 6')\n",
    "data3 = pytesseract.image_to_string(kernel, lang='eng',config='--psm 6')\n",
    "data4 = pytesseract.image_to_string(sharpen, lang='eng',config='--psm 6')\n",
    "data5 = pytesseract.image_to_string(invert, lang='eng',config='--psm 6')\n",
    "print(data5)\n",
    "\n",
    "cv2.imshow('sharpen', sharpen)\n",
    "\n",
    "cv2.waitKey()\n",
    "cv2.destroyallwindows()"
   ]
  },
  {
   "cell_type": "code",
   "execution_count": 16,
   "metadata": {},
   "outputs": [
    {
     "name": "stdout",
     "output_type": "stream",
     "text": [
      "Patients\n",
      "with\n",
      "Patients\n",
      "with\n",
      "Spontaneous\n",
      "Secondary\n",
      "—Control\n",
      "Thrombosis\n",
      "Thrombosis\n",
      "Subjects\n",
      "Characteristic\n",
      "(N=153)\n",
      "(N=146)\n",
      "—\n",
      "(N=150)\n",
      "[(216, 12, 50, 11), (270, 11, 26, 12), (328, 12, 49, 11), (380, 11, 27, 12), (215, 30, 82, 14), (335, 28, 66, 16), (440, 28, 46, 12), (218, 45, 75, 12), (330, 45, 75, 12), (437, 45, 52, 16), (1, 55, 95, 29), (229, 55, 54, 29), (341, 64, 54, 14), (404, 55, 25, 29), (437, 63, 53, 15)]\n"
     ]
    }
   ],
   "source": [
    "import pytesseract\n",
    "from pytesseract import Output\n",
    "import cv2\n",
    "img = cv2.imread('a1.jpg')\n",
    "\n",
    "d = pytesseract.image_to_data(img, output_type=Output.DICT)\n",
    "n_boxes = len(d['level'])\n",
    "bbox_list =[]\n",
    "bboxtxt_list=[]\n",
    "for i in range(n_boxes):\n",
    "    if(d['text'][i] != \"\"):\n",
    "        (x, y, w, h) = (d['left'][i], d['top'][i], d['width'][i], d['height'][i])\n",
    "        cv2.rectangle(img, (x, y), (x + w, y + h), (0, 255, 0), 2)\n",
    "        bbox = (x, y, w, h)\n",
    "        bbox_list.append(bbox)\n",
    "        bboxtxt_list.append(d['text'][i])\n",
    "        print(d['text'][i])\n",
    "print(bbox_list)\n",
    "cv2.imshow('img', img)\n",
    "cv2.waitKey(0)\n",
    "cv2.destroyAllWindows()"
   ]
  },
  {
   "cell_type": "code",
   "execution_count": 17,
   "metadata": {},
   "outputs": [],
   "source": [
    "left=[]\n",
    "top=[]\n",
    "width=[]\n",
    "height=[]\n",
    "for i in range(len(bbox_list)):\n",
    "        left.append(bbox_list[i][0])\n",
    "        top.append(bbox_list[i][1])\n",
    "        width.append(bbox_list[i][2])\n",
    "        height.append(bbox_list[i][3])"
   ]
  },
  {
   "cell_type": "code",
   "execution_count": 18,
   "metadata": {},
   "outputs": [
    {
     "name": "stdout",
     "output_type": "stream",
     "text": [
      "[216, 270, 328, 380, 215, 335, 440, 218, 330, 437, 1, 229, 341, 404, 437]\n",
      "[12, 11, 12, 11, 30, 28, 28, 45, 45, 45, 55, 55, 64, 55, 63]\n",
      "['Patients', 'with', 'Patients', 'with', 'Spontaneous', 'Secondary', '—Control', 'Thrombosis', 'Thrombosis', 'Subjects', 'Characteristic', '(N=153)', '(N=146)', '—', '(N=150)']\n"
     ]
    }
   ],
   "source": [
    "print(left)\n",
    "print(top)\n",
    "print(bboxtxt_list)"
   ]
  },
  {
   "cell_type": "code",
   "execution_count": 57,
   "metadata": {},
   "outputs": [],
   "source": [
    "res = {[left[i],bboxtxt_list[i]] for i in range(len(left))}"
   ]
  },
  {
   "cell_type": "code",
   "execution_count": 82,
   "metadata": {},
   "outputs": [
    {
     "name": "stdout",
     "output_type": "stream",
     "text": [
      "{10: [1, 'Characteristic'], 4: [215, 'Spontaneous'], 0: [216, 'Patients'], 7: [218, 'Thrombosis'], 11: [229, '(N=153)'], 1: [270, 'with'], 2: [328, 'Patients'], 8: [330, 'Thrombosis'], 5: [335, 'Secondary'], 12: [341, '(N=146)'], 3: [380, 'with'], 13: [404, '—'], 9: [437, 'Subjects'], 14: [437, '(N=150)'], 6: [440, '—Control']}\n"
     ]
    },
    {
     "data": {
      "text/plain": [
       "{1: ['Characteristic'],\n",
       " 2: ['Spontaneous', 'Patients', 'Thrombosis', '(N=153)', 'with'],\n",
       " 3: ['Patients', 'Thrombosis', 'Secondary', '(N=146)', 'with'],\n",
       " 4: ['—', 'Subjects', '(N=150)', '—Control']}"
      ]
     },
     "execution_count": 82,
     "metadata": {},
     "output_type": "execute_result"
    }
   ],
   "source": [
    "import collections\n",
    "pk ={1:[],2:[],3:[],4:[]}\n",
    "od = {k: v for k, v in sorted(res.items(), key=lambda item: item[1][0])}\n",
    "print(od)\n",
    "for k in od.keys():\n",
    "    if(od[k][0]>0 and od[k][0]<=100):\n",
    "        pk[1].append(od[k][1])\n",
    "    elif(od[k][0]>100 and od[k][0]<=300):\n",
    "        pk[2].append(od[k][1])\n",
    "    elif(od[k][0]>300 and od[k][0]<=400):\n",
    "        pk[3].append(od[k][1])\n",
    "    elif(od[k][0]>400):\n",
    "        pk[4].append(od[k][1])\n",
    "        \n",
    "pk     "
   ]
  },
  {
   "cell_type": "code",
   "execution_count": 93,
   "metadata": {},
   "outputs": [
    {
     "name": "stdout",
     "output_type": "stream",
     "text": [
      "{'line1': ['with', 'with', 'Patients', 'Patients'], 'line2': ['Secondary', '—Control', 'Spontaneous'], 'line3': ['Subjects', 'Thrombosis', 'Thrombosis'], 'line4': ['(N=153)', 'Characteristic', '—', '(N=150)', '(N=146)']}\n"
     ]
    }
   ],
   "source": [
    "res1 = {i: [top[i], bboxtxt_list[i]] for i in range(len(top))}\n",
    "pk1={\"line1\":[],\"line2\":[],\"line3\":[],\"line4\":[]}\n",
    "od1={k: v for k, v in sorted(res1.items(), key=lambda item: item[1])}\n",
    "for k in od1.keys():\n",
    "    if(od1[k][0]> 10 and od1[k][0]<=20):\n",
    "        pk1[\"line1\"].append(od1[k][1])\n",
    "    elif(od1[k][0]> 20 and od1[k][0]<=30):\n",
    "        pk1[\"line2\"].append(od1[k][1])\n",
    "    elif(od1[k][0]> 30 and od1[k][0]<=50):\n",
    "        pk1[\"line3\"].append(od1[k][1])\n",
    "    elif(od1[k][0]> 50):\n",
    "        pk1[\"line4\"].append(od1[k][1])\n",
    "print(pk1)\n",
    " \n",
    "        "
   ]
  },
  {
   "cell_type": "code",
   "execution_count": 1,
   "metadata": {},
   "outputs": [
    {
     "ename": "NameError",
     "evalue": "name 'left' is not defined",
     "output_type": "error",
     "traceback": [
      "\u001b[1;31m---------------------------------------------------------------------------\u001b[0m",
      "\u001b[1;31mNameError\u001b[0m                                 Traceback (most recent call last)",
      "\u001b[1;32m<ipython-input-1-024383fc1107>\u001b[0m in \u001b[0;36m<module>\u001b[1;34m\u001b[0m\n\u001b[0;32m      2\u001b[0m \u001b[1;32mimport\u001b[0m \u001b[0mcv2\u001b[0m \u001b[1;32mas\u001b[0m \u001b[0mcv\u001b[0m\u001b[1;33m\u001b[0m\u001b[1;33m\u001b[0m\u001b[0m\n\u001b[0;32m      3\u001b[0m \u001b[1;32mfrom\u001b[0m \u001b[0mmatplotlib\u001b[0m \u001b[1;32mimport\u001b[0m \u001b[0mpyplot\u001b[0m \u001b[1;32mas\u001b[0m \u001b[0mplt\u001b[0m\u001b[1;33m\u001b[0m\u001b[1;33m\u001b[0m\u001b[0m\n\u001b[1;32m----> 4\u001b[1;33m \u001b[0mx\u001b[0m \u001b[1;33m=\u001b[0m \u001b[0mleft\u001b[0m\u001b[1;33m\u001b[0m\u001b[1;33m\u001b[0m\u001b[0m\n\u001b[0m\u001b[0;32m      5\u001b[0m \u001b[0my\u001b[0m \u001b[1;33m=\u001b[0m \u001b[0mtop\u001b[0m\u001b[1;33m\u001b[0m\u001b[1;33m\u001b[0m\u001b[0m\n\u001b[0;32m      6\u001b[0m \u001b[0mz\u001b[0m \u001b[1;33m=\u001b[0m \u001b[0mnp\u001b[0m\u001b[1;33m.\u001b[0m\u001b[0mhstack\u001b[0m\u001b[1;33m(\u001b[0m\u001b[1;33m(\u001b[0m\u001b[0mx\u001b[0m\u001b[1;33m,\u001b[0m\u001b[0my\u001b[0m\u001b[1;33m)\u001b[0m\u001b[1;33m)\u001b[0m\u001b[1;33m\u001b[0m\u001b[1;33m\u001b[0m\u001b[0m\n",
      "\u001b[1;31mNameError\u001b[0m: name 'left' is not defined"
     ]
    }
   ],
   "source": [
    "import numpy as np\n",
    "import cv2 as cv\n",
    "from matplotlib import pyplot as plt\n",
    "x = left\n",
    "y = top\n",
    "z = np.hstack((x,y))\n",
    "print(z)\n",
    "z = z.reshape((30,1))\n",
    "print(z)\n",
    "z = np.float32(z)\n",
    "print(z)\n",
    "plt.hist(z,500,[0,500]),plt.show()\n"
   ]
  },
  {
   "cell_type": "code",
   "execution_count": 119,
   "metadata": {
    "collapsed": true,
    "jupyter": {
     "outputs_hidden": true
    }
   },
   "outputs": [
    {
     "name": "stdout",
     "output_type": "stream",
     "text": [
      "102189.71349942684 [[0]\n",
      " [0]\n",
      " [0]\n",
      " [0]\n",
      " [0]\n",
      " [0]\n",
      " [0]\n",
      " [0]\n",
      " [0]\n",
      " [0]\n",
      " [1]\n",
      " [0]\n",
      " [0]\n",
      " [0]\n",
      " [0]\n",
      " [1]\n",
      " [1]\n",
      " [1]\n",
      " [1]\n",
      " [1]\n",
      " [1]\n",
      " [1]\n",
      " [1]\n",
      " [1]\n",
      " [1]\n",
      " [1]\n",
      " [1]\n",
      " [1]\n",
      " [1]\n",
      " [1]] [[327.14288]\n",
      " [ 35.     ]]\n"
     ]
    }
   ],
   "source": [
    "# Define criteria = ( type, max_iter = 10 , epsilon = 1.0 )\n",
    "criteria = (cv.TERM_CRITERIA_EPS + cv.TERM_CRITERIA_MAX_ITER, 100, 1.0)\n",
    "# Set flags (Just to avoid line break in the code)\n",
    "flags = cv.KMEANS_RANDOM_CENTERS\n",
    "# Apply KMeans\n",
    "compactness,labels,centers = cv.kmeans(z,2,None,criteria,10,flags)\n",
    "print(compactness,labels,centers)"
   ]
  },
  {
   "cell_type": "code",
   "execution_count": 120,
   "metadata": {
    "jupyter": {
     "source_hidden": true
    }
   },
   "outputs": [],
   "source": [
    "A = z[labels==0]\n",
    "B = z[labels==1]"
   ]
  },
  {
   "cell_type": "code",
   "execution_count": 121,
   "metadata": {
    "collapsed": true,
    "jupyter": {
     "outputs_hidden": true,
     "source_hidden": true
    }
   },
   "outputs": [
    {
     "data": {
      "image/png": "[encoded data removed]",
      "text/plain": [
       "<Figure size 432x288 with 1 Axes>"
      ]
     },
     "metadata": {
      "needs_background": "light"
     },
     "output_type": "display_data"
    }
   ],
   "source": [
    "# Now plot 'A' in red, 'B' in blue, 'centers' in yellow\n",
    "plt.hist(A,500,[0,500],color = 'r')\n",
    "plt.hist(B,500,[0,500],color = 'b')\n",
    "plt.hist(centers,32,[0,500],color = 'y')\n",
    "plt.show()"
   ]
  },
  {
   "cell_type": "code",
   "execution_count": 122,
   "metadata": {
    "jupyter": {
     "source_hidden": true
    }
   },
   "outputs": [
    {
     "name": "stdout",
     "output_type": "stream",
     "text": [
      "{1: ['Characteristic'], 2: ['Spontaneous', 'Patients', 'Thrombosis', '(N=153)', 'with'], 3: ['Patients', 'Thrombosis', 'Secondary', '(N=146)', 'with'], 4: ['—', 'Subjects', '(N=150)', '—Control']}\n"
     ]
    }
   ],
   "source": [
    "print(pk)"
   ]
  },
  {
   "cell_type": "code",
   "execution_count": null,
   "metadata": {},
   "outputs": [],
   "source": []
  }
 ],
 "metadata": {
  "kernelspec": {
   "display_name": "Python 3",
   "language": "python",
   "name": "python3"
  },
  "language_info": {
   "codemirror_mode": {
    "name": "ipython",
    "version": 3
   },
   "file_extension": ".py",
   "mimetype": "text/x-python",
   "name": "python",
   "nbconvert_exporter": "python",
   "pygments_lexer": "ipython3",
   "version": "3.8.3"
  }
 },
 "nbformat": 4,
 "nbformat_minor": 4
}
