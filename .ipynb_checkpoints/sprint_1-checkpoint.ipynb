{
 "cells": [
  {
   "cell_type": "code",
   "execution_count": 6,
   "metadata": {},
   "outputs": [
    {
     "name": "stdout",
     "output_type": "stream",
     "text": [
      "Patients\n",
      "with\n",
      "Patients\n",
      "with\n",
      "Spontaneous\n",
      "Secondary\n",
      "—Control\n",
      "Thrombosis\n",
      "Thrombosis\n",
      "Subjects\n",
      "Characteristic\n",
      "(N=153)\n",
      "(N=146)\n",
      "—\n",
      "(N=150)\n",
      "[(216, 12, 50, 11), (270, 11, 26, 12), (328, 12, 49, 11), (380, 11, 27, 12), (215, 30, 82, 14), (335, 28, 66, 16), (440, 28, 46, 12), (218, 45, 75, 12), (330, 45, 75, 12), (437, 45, 52, 16), (1, 55, 95, 29), (229, 55, 54, 29), (341, 64, 54, 14), (404, 55, 25, 29), (437, 63, 53, 15)]\n"
     ]
    },
    {
     "data": {
      "text/plain": [
       "[0,\n",
       " 1,\n",
       " 216,\n",
       " 216,\n",
       " 216,\n",
       " 270,\n",
       " 328,\n",
       " 380,\n",
       " 215,\n",
       " 215,\n",
       " 215,\n",
       " 335,\n",
       " 440,\n",
       " 10,\n",
       " 218,\n",
       " 218,\n",
       " 330,\n",
       " 437,\n",
       " 1,\n",
       " 1,\n",
       " 229,\n",
       " 341,\n",
       " 404,\n",
       " 437]"
      ]
     },
     "execution_count": 6,
     "metadata": {},
     "output_type": "execute_result"
    }
   ],
   "source": [
    "import pytesseract\n",
    "from pytesseract import Output\n",
    "import cv2\n",
    "img = cv2.imread('a1.jpg')\n",
    "\n",
    "d = pytesseract.image_to_data(img, output_type=Output.DICT)\n",
    "n_boxes = len(d['level'])\n",
    "bbox_list =[]\n",
    "bboxtxt_list=[]\n",
    "for i in range(n_boxes):\n",
    "    if(d['text'][i] != \"\"):\n",
    "        (x, y, w, h) = (d['left'][i], d['top'][i], d['width'][i], d['height'][i])\n",
    "        cv2.rectangle(img, (x, y), (x + w, y + h), (0, 255, 0), 2)\n",
    "        bbox = (x, y, w, h)\n",
    "        bbox_list.append(bbox)\n",
    "        bboxtxt_list.append(d['text'][i])\n",
    "        print(d['text'][i])\n",
    "print(bbox_list)\n",
    "cv2.imshow('img', img)\n",
    "cv2.waitKey(0)\n",
    "cv2.destroyAllWindows()\n",
    "d['left']"
   ]
  },
  {
   "cell_type": "code",
   "execution_count": 3,
   "metadata": {},
   "outputs": [
    {
     "name": "stdout",
     "output_type": "stream",
     "text": [
      "[216, 270, 328, 380, 215, 335, 440, 218, 330, 437, 1, 229, 341, 404, 437]\n",
      "[12, 11, 12, 11, 30, 28, 28, 45, 45, 45, 55, 55, 64, 55, 63]\n",
      "['Patients', 'with', 'Patients', 'with', 'Spontaneous', 'Secondary', '—Control', 'Thrombosis', 'Thrombosis', 'Subjects', 'Characteristic', '(N=153)', '(N=146)', '—', '(N=150)']\n"
     ]
    }
   ],
   "source": [
    "left=[]\n",
    "top=[]\n",
    "width=[]\n",
    "height=[]\n",
    "for i in range(len(bbox_list)):\n",
    "        left.append(bbox_list[i][0])\n",
    "        top.append(bbox_list[i][1])\n",
    "        width.append(bbox_list[i][2])\n",
    "        height.append(bbox_list[i][3])\n",
    "print(left)\n",
    "print(top)\n",
    "print(bboxtxt_list)"
   ]
  },
  {
   "cell_type": "code",
   "execution_count": 4,
   "metadata": {},
   "outputs": [
    {
     "data": {
      "text/plain": [
       "{0: [216, 'Patients'],\n",
       " 1: [270, 'with'],\n",
       " 2: [328, 'Patients'],\n",
       " 3: [380, 'with'],\n",
       " 4: [215, 'Spontaneous'],\n",
       " 5: [335, 'Secondary'],\n",
       " 6: [440, '—Control'],\n",
       " 7: [218, 'Thrombosis'],\n",
       " 8: [330, 'Thrombosis'],\n",
       " 9: [437, 'Subjects'],\n",
       " 10: [1, 'Characteristic'],\n",
       " 11: [229, '(N=153)'],\n",
       " 12: [341, '(N=146)'],\n",
       " 13: [404, '—'],\n",
       " 14: [437, '(N=150)']}"
      ]
     },
     "execution_count": 4,
     "metadata": {},
     "output_type": "execute_result"
    }
   ],
   "source": [
    "res = {i:[left[i],bboxtxt_list[i]] for i in range(len(left))}\n",
    "res"
   ]
  },
  {
   "cell_type": "code",
   "execution_count": 6,
   "metadata": {},
   "outputs": [
    {
     "name": "stdout",
     "output_type": "stream",
     "text": [
      "{10: [1, 'Characteristic'], 4: [215, 'Spontaneous'], 0: [216, 'Patients'], 7: [218, 'Thrombosis'], 11: [229, '(N=153)'], 1: [270, 'with'], 2: [328, 'Patients'], 8: [330, 'Thrombosis'], 5: [335, 'Secondary'], 12: [341, '(N=146)'], 3: [380, 'with'], 13: [404, '—'], 9: [437, 'Subjects'], 14: [437, '(N=150)'], 6: [440, '—Control']}\n"
     ]
    },
    {
     "data": {
      "text/plain": [
       "{1: ['Characteristic'],\n",
       " 2: ['Spontaneous', 'Patients', 'Thrombosis', '(N=153)', 'with'],\n",
       " 3: ['Patients', 'Thrombosis', 'Secondary', '(N=146)', 'with'],\n",
       " 4: ['—', 'Subjects', '(N=150)', '—Control']}"
      ]
     },
     "execution_count": 6,
     "metadata": {},
     "output_type": "execute_result"
    }
   ],
   "source": [
    "import collections\n",
    "pk ={1:[],2:[],3:[],4:[]}\n",
    "od = {k: v for k, v in sorted(res.items(), key=lambda item: item[1][0])}\n",
    "print(od)\n",
    "for k in od.keys():\n",
    "    if(od[k][0]>0 and od[k][0]<=100):\n",
    "        pk[1].append(od[k][1])\n",
    "    elif(od[k][0]>100 and od[k][0]<=300):\n",
    "        pk[2].append(od[k][1])\n",
    "    elif(od[k][0]>300 and od[k][0]<=400):\n",
    "        pk[3].append(od[k][1])\n",
    "    elif(od[k][0]>400):\n",
    "        pk[4].append(od[k][1])\n",
    "        \n",
    "pk     "
   ]
  },
  {
   "cell_type": "code",
   "execution_count": 7,
   "metadata": {},
   "outputs": [
    {
     "name": "stdout",
     "output_type": "stream",
     "text": [
      "{'line1': ['with', 'with', 'Patients', 'Patients'], 'line2': ['Secondary', '—Control', 'Spontaneous'], 'line3': ['Subjects', 'Thrombosis', 'Thrombosis'], 'line4': ['(N=153)', 'Characteristic', '—', '(N=150)', '(N=146)']}\n"
     ]
    }
   ],
   "source": [
    "res1 = {i: [top[i], bboxtxt_list[i]] for i in range(len(top))}\n",
    "pk1={\"line1\":[],\"line2\":[],\"line3\":[],\"line4\":[]}\n",
    "od1={k: v for k, v in sorted(res1.items(), key=lambda item: item[1])}\n",
    "for k in od1.keys():\n",
    "    if(od1[k][0]> 10 and od1[k][0]<=20):\n",
    "        pk1[\"line1\"].append(od1[k][1])\n",
    "    elif(od1[k][0]> 20 and od1[k][0]<=30):\n",
    "        pk1[\"line2\"].append(od1[k][1])\n",
    "    elif(od1[k][0]> 30 and od1[k][0]<=50):\n",
    "        pk1[\"line3\"].append(od1[k][1])\n",
    "    elif(od1[k][0]> 50):\n",
    "        pk1[\"line4\"].append(od1[k][1])\n",
    "print(pk1)\n",
    " \n",
    "#consider the distance btw the bboxes and then separate them         "
   ]
  },
  {
   "cell_type": "markdown",
   "metadata": {},
   "source": [
    "###Clusterd Dictionary"
   ]
  },
  {
   "cell_type": "code",
   "execution_count": 8,
   "metadata": {},
   "outputs": [
    {
     "name": "stdout",
     "output_type": "stream",
     "text": [
      "{1: ['Characteristic'], 2: ['Spontaneous', 'Patients', 'Thrombosis', '(N=153)', 'with'], 3: ['Patients', 'Thrombosis', 'Secondary', '(N=146)', 'with'], 4: ['—', 'Subjects', '(N=150)', '—Control']}\n"
     ]
    }
   ],
   "source": [
    "print(pk)"
   ]
  },
  {
   "cell_type": "markdown",
   "metadata": {},
   "source": [
    "#xmax\n",
    "#Using clustering how to cluster the coordinates wrt x & y \n",
    "#kmeans \n",
    "Basically diff clustering \n",
    "how can kmeans in this problem\n",
    "and also come up with genralised problem \n",
    "\n",
    "#### find out how to get the no. of clusters needed\n",
    "### Try using difference"
   ]
  }
 ],
 "metadata": {
  "kernelspec": {
   "display_name": "Python 3",
   "language": "python",
   "name": "python3"
  },
  "language_info": {
   "codemirror_mode": {
    "name": "ipython",
    "version": 3
   },
   "file_extension": ".py",
   "mimetype": "text/x-python",
   "name": "python",
   "nbconvert_exporter": "python",
   "pygments_lexer": "ipython3",
   "version": "3.8.3"
  }
 },
 "nbformat": 4,
 "nbformat_minor": 4
}
